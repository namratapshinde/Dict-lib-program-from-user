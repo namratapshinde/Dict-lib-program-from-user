{
 "cells": [
  {
   "cell_type": "code",
   "execution_count": null,
   "id": "d91da540-d030-4772-8290-1d8457730a43",
   "metadata": {},
   "outputs": [],
   "source": [
    "d={\"java\":1,\"Python\":2,\"c\":3,\"c++\":4,\"HTML\":5}\n",
    "user=input(\"Enter the key:\")\n",
    "v=d.get(user)\n",
    "print(v)"
   ]
  }
 ],
 "metadata": {
  "kernelspec": {
   "display_name": "Python 3 (ipykernel)",
   "language": "python",
   "name": "python3"
  },
  "language_info": {
   "codemirror_mode": {
    "name": "ipython",
    "version": 3
   },
   "file_extension": ".py",
   "mimetype": "text/x-python",
   "name": "python",
   "nbconvert_exporter": "python",
   "pygments_lexer": "ipython3",
   "version": "3.12.4"
  }
 },
 "nbformat": 4,
 "nbformat_minor": 5
}
